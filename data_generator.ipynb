{
 "cells": [
  {
   "cell_type": "markdown",
   "id": "d7d364b4",
   "metadata": {},
   "source": [
    "# Problem statement and data generation"
   ]
  },
  {
   "cell_type": "markdown",
   "id": "4fc3907b",
   "metadata": {},
   "source": [
    "For each class, there is one pattern occurring in the data. Solving just a classification task be scored no higher than 70%. \n",
    "\n",
    "Please provide either pdf with the report or add some notes in the notebook. Demonstrate some examples of how your approach works.\n",
    "\n",
    "A short reminder of your task:\n",
    " - Correct classification of provided time series\n",
    " - Explanation of the prediction"
   ]
  },
  {
   "cell_type": "code",
   "execution_count": null,
   "id": "d400e6e8",
   "metadata": {},
   "outputs": [],
   "source": [
    "import numpy as np\n",
    "import pandas as pd\n",
    "import matplotlib.pyplot as plt"
   ]
  },
  {
   "cell_type": "code",
   "execution_count": null,
   "id": "3b395cd1",
   "metadata": {},
   "outputs": [],
   "source": [
    "np.random.seed(42)"
   ]
  },
  {
   "cell_type": "code",
   "execution_count": null,
   "id": "2b20a4bd",
   "metadata": {},
   "outputs": [],
   "source": [
    "n = 50000"
   ]
  },
  {
   "cell_type": "code",
   "execution_count": null,
   "id": "df329ef7",
   "metadata": {},
   "outputs": [],
   "source": [
    "def createRow(n, classes):\n",
    "    base = np.sin(np.linspace((np.random.rand(3)),(np.random.rand(3) + np.array([10,15,7])),n))\n",
    "    if classes[0] > 0:\n",
    "        base[np.random.randint(0,n), 0] += 2\n",
    "    if classes[1] > 0:\n",
    "        base[np.random.randint(0,n), 1] -= 2\n",
    "    if classes[2] > 0:\n",
    "        x = np.random.randint(0,n-5)\n",
    "        base[x:x+4,2] = 0\n",
    "    if classes[3] > 0:\n",
    "        x = np.random.randint(0,n-10)\n",
    "        base[x:x+8,1] += 1.5\n",
    "    if classes[4] > 0:\n",
    "        x = np.random.randint(0,n-7)\n",
    "        base[x:x+6,0] += 1.5\n",
    "        base[x:x+6,2] -= 1.5\n",
    "    base += np.random.rand(*base.shape)*.2\n",
    "    return base"
   ]
  },
  {
   "cell_type": "code",
   "execution_count": null,
   "id": "67ab6c5f",
   "metadata": {},
   "outputs": [],
   "source": [
    "xl, yl = [], []\n",
    "for _ in range(n):\n",
    "    cl = np.random.rand(5)<.25\n",
    "    xl.append(createRow(np.random.randint(40,60), cl))\n",
    "    yl.append(cl)\n",
    "    "
   ]
  },
  {
   "cell_type": "code",
   "execution_count": null,
   "id": "73600c57",
   "metadata": {},
   "outputs": [],
   "source": [
    "#for i in range(3):\n",
    "#    plt.plot(xl[i])\n",
    "#    print(yl[i])\n",
    "#    plt.show()"
   ]
  },
  {
   "cell_type": "markdown",
   "id": "11179df6",
   "metadata": {},
   "source": [
    "---"
   ]
  },
  {
   "cell_type": "code",
   "execution_count": null,
   "id": "f0dceeb0",
   "metadata": {},
   "outputs": [],
   "source": [
    "from typing import List\n",
    "\n",
    "import torch\n",
    "import torch.nn as nn\n",
    "\n",
    "from src.data import *\n",
    "from src.metrics import *\n",
    "from src.model import *"
   ]
  },
  {
   "cell_type": "code",
   "execution_count": null,
   "id": "81330e44",
   "metadata": {},
   "outputs": [],
   "source": [
    "print(f\"Is cuda available:\\t{str(torch.cuda.is_available()).lower()}\")\n",
    "device = torch.device('cuda' if torch.cuda.is_available() else 'cpu')\n",
    "print(f\"Selected device:\\t{device}\")"
   ]
  },
  {
   "cell_type": "markdown",
   "id": "213ff844",
   "metadata": {},
   "source": [
    "# Dataset and dataloaders"
   ]
  },
  {
   "cell_type": "markdown",
   "id": "59412dcd",
   "metadata": {},
   "source": [
    "| Set   |   %   |\n",
    "|---    |---    |\n",
    "| Train |   60  |\n",
    "| Eval  |   20  |\n",
    "| Test  |   20  | "
   ]
  },
  {
   "cell_type": "code",
   "execution_count": null,
   "id": "14293c84",
   "metadata": {},
   "outputs": [],
   "source": [
    "dataset = Dataset(xl, yl)\n",
    "train, eval = dataset_split(dataset, train_size=0.6)\n",
    "eval, test = dataset_split(eval, train_size=0.5)"
   ]
  },
  {
   "cell_type": "code",
   "execution_count": null,
   "id": "8d63e6ae",
   "metadata": {},
   "outputs": [],
   "source": [
    "train_dataloader = torch.utils.data.DataLoader(dataset=train, batch_size=1)\n",
    "eval_dataloader = torch.utils.data.DataLoader(dataset=eval, batch_size=1)\n",
    "test_dataloader = torch.utils.data.DataLoader(dataset=test, batch_size=1)"
   ]
  },
  {
   "cell_type": "markdown",
   "id": "8f9ce419",
   "metadata": {},
   "source": [
    "# Model"
   ]
  },
  {
   "cell_type": "code",
   "execution_count": null,
   "id": "69e7557d",
   "metadata": {},
   "outputs": [],
   "source": [
    "model = Encoder()\n",
    "_ = model.to(device)"
   ]
  },
  {
   "cell_type": "code",
   "execution_count": null,
   "id": "d52baf93",
   "metadata": {},
   "outputs": [],
   "source": [
    "epochs = 10\n",
    "criterion = nn.BCELoss()\n",
    "optimizer = torch.optim.AdamW(model.parameters(), lr=1e-3, weight_decay=1e-4)"
   ]
  },
  {
   "cell_type": "code",
   "execution_count": null,
   "id": "65895995",
   "metadata": {},
   "outputs": [],
   "source": [
    "eval_f1 = []\n",
    "for e in range(epochs):\n",
    "    model.train()\n",
    "    ls = []\n",
    "    for i, (x, y) in enumerate(train_dataloader):\n",
    "        optimizer.zero_grad()\n",
    "        x = x.to(device)\n",
    "        y = y.to(device)\n",
    "        y_hat = model(x)\n",
    "        loss = criterion(y_hat, y)\n",
    "        loss.backward()\n",
    "        optimizer.step()\n",
    "        ls.append(loss)\n",
    "    print(f\"Epoch: {e}\")\n",
    "    print(f\"[train] Binary Cross Entropy: {sum(ls) / len(ls):.4f}\")\n",
    "    \n",
    "    model.eval()\n",
    "    serialize(model, e)\n",
    "    with torch.no_grad():\n",
    "        y_true, y_pred = [], []\n",
    "        for i, (x, y) in enumerate(eval_dataloader):\n",
    "            x = x.to(device)\n",
    "            y_hat = model(x)\n",
    "            y_hat = y_hat.cpu()                \n",
    "            y_true.append(y)\n",
    "            y_pred.append(y_hat)\n",
    "        \n",
    "        y_true = torch.cat(y_true, dim=0)\n",
    "        y_pred = torch.cat(y_pred, dim=0)\n",
    "        (loss, acc, prec, rec, f1) = compute_metrics(y_true, y_pred)\n",
    "        eval_f1.append(f1)\n",
    "        \n",
    "        print(f\"[eval] Binary Cross Entropy: {loss:.4f}, Accuracy: {acc:.4f}, Precision: {prec:.4f}, Recall: {rec:.4f}\")        \n",
    "        if e >= 4 and all(np.array(eval_f1[-4:-1]) >= eval_f1[-1]):\n",
    "            print(f\"Early stopping\")\n",
    "            break"
   ]
  },
  {
   "cell_type": "code",
   "execution_count": null,
   "id": "7171f547",
   "metadata": {},
   "outputs": [],
   "source": [
    "for i, (x, y) in enumerate(test_dataloader):\n",
    "    x = x.to(device)\n",
    "    y = y.to(device)\n",
    "    if i == 10:\n",
    "        break\n",
    "    y_hat = model(x)\n",
    "    print(y.cpu().numpy(), (y_hat > 0.5).cpu().int())"
   ]
  }
 ],
 "metadata": {
  "kernelspec": {
   "display_name": "Python 3 (ipykernel)",
   "language": "python",
   "name": "python3"
  },
  "language_info": {
   "codemirror_mode": {
    "name": "ipython",
    "version": 3
   },
   "file_extension": ".py",
   "mimetype": "text/x-python",
   "name": "python",
   "nbconvert_exporter": "python",
   "pygments_lexer": "ipython3",
   "version": "3.9.7"
  }
 },
 "nbformat": 4,
 "nbformat_minor": 5
}
